{
  "nbformat": 4,
  "nbformat_minor": 0,
  "metadata": {
    "colab": {
      "provenance": [],
      "authorship_tag": "ABX9TyOd8SVKBimUxuttE+mHcZHX",
      "include_colab_link": true
    },
    "kernelspec": {
      "name": "python3",
      "display_name": "Python 3"
    },
    "language_info": {
      "name": "python"
    }
  },
  "cells": [
    {
      "cell_type": "markdown",
      "metadata": {
        "id": "view-in-github",
        "colab_type": "text"
      },
      "source": [
        "<a href=\"https://colab.research.google.com/github/surtarso/Python-Study/blob/main/dio_python_ETL_santander.ipynb\" target=\"_parent\"><img src=\"https://colab.research.google.com/assets/colab-badge.svg\" alt=\"Open In Colab\"/></a>"
      ]
    },
    {
      "cell_type": "markdown",
      "source": [
        "Vamos explorar a emocionante jornada de construir um pipeline ETL (Extração, Transformação e Carregamento) que ilustra a integração harmoniosa entre dados, inteligência artificial (IA) e APIs. A partir de uma simples planilha contendo IDs de usuários, desvendaremos um processo envolvente que destaca a versatilidade da coleta de informações na Ciência de Dados. Passo a passo, acompanharemos a evolução dos dados: desde a extração dos IDs até a obtenção de dados detalhados através de chamadas simuladas a uma API. Em seguida, entraremos no mundo da IA com o GPT-4 da OpenAI, explorando como essa tecnologia inovadora pode transformar esses dados em mensagens personalizadas de marketing. Por fim, completaremos o ciclo ao carregar essas mensagens de volta para a API, demonstrando a reintegração dos dados transformados."
      ],
      "metadata": {
        "id": "nCERO11EHKBP"
      }
    },
    {
      "cell_type": "markdown",
      "source": [
        "Um plano sólido para construir um pipeline ETL que envolve a extração de dados de uma planilha, a transformação desses dados usando a IA GPT-4 da OpenAI e, por fim, o carregamento das mensagens transformadas de volta para uma API. Vou guiá-lo através dos passos para construir esse pipeline."
      ],
      "metadata": {
        "id": "mMTXVd94CL0d"
      }
    },
    {
      "cell_type": "markdown",
      "source": [
        "Primeiramente, vou criar uma planilha chamada \"usuarios.xlsx\" com alguns IDs fictícios:"
      ],
      "metadata": {
        "id": "xArGwJLEFXek"
      }
    },
    {
      "cell_type": "code",
      "source": [
        "import pandas as pd\n",
        "\n",
        "# Dados de exemplo\n",
        "dados = {'ID': [1, 2, 3, 4, 5]}\n",
        "\n",
        "# Criar um DataFrame com os dados\n",
        "df = pd.DataFrame(dados)\n",
        "\n",
        "# Salvar o DataFrame em uma planilha Excel\n",
        "df.to_excel('usuarios.xlsx', index=False)\n",
        "\n",
        "print(\"Planilha 'usuarios.xlsx' criada com sucesso.\")\n"
      ],
      "metadata": {
        "id": "LyTbhtBmFaOd"
      },
      "execution_count": null,
      "outputs": []
    },
    {
      "cell_type": "markdown",
      "source": [
        "Passo 1: Extração\n",
        "\n",
        "    1. Comece com a planilha contendo os IDs dos usuários.\n",
        "    2. Use uma biblioteca de manipulação de planilhas, como o pandas em Python, para carregar e extrair os IDs dos usuários."
      ],
      "metadata": {
        "id": "QoJ4FZyQCYg-"
      }
    },
    {
      "cell_type": "code",
      "source": [
        "import pandas as pd\n",
        "\n",
        "# Carregar a planilha\n",
        "planilha = pd.read_excel('usuarios.xlsx')\n",
        "\n",
        "# Extrair os IDs dos usuários\n",
        "ids_usuarios = planilha['ID']"
      ],
      "metadata": {
        "id": "egn3eQUWCc7y"
      },
      "execution_count": null,
      "outputs": []
    },
    {
      "cell_type": "markdown",
      "source": [
        "Nessa parte do código, estamos importando a biblioteca pandas e usando-a para carregar uma planilha Excel. Depois, extraímos os IDs dos usuários da coluna 'ID' da planilha."
      ],
      "metadata": {
        "id": "Ir7zF8tlD3WJ"
      }
    },
    {
      "cell_type": "markdown",
      "source": [
        "Vamos criar um exemplo fictício de como obter dados detalhados usando os IDs de usuários da planilha:"
      ],
      "metadata": {
        "id": "LjPGy_UqGpaJ"
      }
    },
    {
      "cell_type": "code",
      "source": [
        "import random\n",
        "import pandas as pd\n",
        "import time\n",
        "\n",
        "# Função fictícia que simula chamadas à API\n",
        "def obter_dados_detalhados(id_usuario):\n",
        "    dados = {\n",
        "        1: {'nome': 'Usuário 1', 'idade': 25, 'email': 'usuario1@example.com'},\n",
        "        2: {'nome': 'Usuário 2', 'idade': 30, 'email': 'usuario2@example.com'},\n",
        "        3: {'nome': 'Usuário 3', 'idade': 28, 'email': 'usuario3@example.com'},\n",
        "        4: {'nome': 'Usuário 4', 'idade': 22, 'email': 'usuario4@example.com'},\n",
        "        5: {'nome': 'Usuário 5', 'idade': 35, 'email': 'usuario5@example.com'}\n",
        "    }\n",
        "\n",
        "    # Simulação de chamada à API com tempo de espera aleatório\n",
        "    time.sleep(random.uniform(0.5, 2))  # Simulando tempo de espera da chamada à API\n",
        "\n",
        "    return dados.get(id_usuario, None)\n",
        "\n",
        "# Carregar a planilha\n",
        "planilha = pd.read_excel('usuarios.xlsx')\n",
        "\n",
        "# IDs dos usuários da planilha\n",
        "ids_usuarios = planilha['ID']\n",
        "\n",
        "# Simulação de chamadas à API e obtenção de dados detalhados\n",
        "dados_detalhados = [obter_dados_detalhados(id_usuario) for id_usuario in ids_usuarios]\n",
        "\n",
        "# Imprimir os dados detalhados simulados\n",
        "for dado in dados_detalhados:\n",
        "    if dado:\n",
        "        print(dado)\n",
        "    else:\n",
        "        print(f\"Dados para o usuário não encontrado.\")\n"
      ],
      "metadata": {
        "id": "zgpnd72QGrg1"
      },
      "execution_count": null,
      "outputs": []
    },
    {
      "cell_type": "markdown",
      "source": [
        "Passo 2: Acesso à API e Coleta de Dados Detalhados\n",
        "\n",
        "    1. Use os IDs dos usuários para fazer chamadas à API real e obter dados detalhados.\n",
        "    2. Utilize uma biblioteca de requisições HTTP, como o requests em Python, para fazer as chamadas à API."
      ],
      "metadata": {
        "id": "Cxt7k3p4Cfcq"
      }
    },
    {
      "cell_type": "code",
      "source": [
        "import requests\n",
        "\n",
        "# URL da API\n",
        "base_url = 'https://exemplo-api.com/users/'\n",
        "\n",
        "# Lista detalhada dos usuários\n",
        "dados_detalhados = []\n",
        "\n",
        "for id_usuario in ids_usuarios:\n",
        "    response = requests.get(base_url + str(id_usuario))\n",
        "    if response.status_code == 200:\n",
        "        dados_detalhados.append(response.json())"
      ],
      "metadata": {
        "id": "NrpFJOE7Ch4K"
      },
      "execution_count": null,
      "outputs": []
    },
    {
      "cell_type": "markdown",
      "source": [
        "Aqui, importamos a biblioteca requests para fazer requisições HTTP. Definimos base_url como o URL base da API. Em um loop, fazemos chamadas à API para cada ID de usuário e armazenamos os dados detalhados em uma lista chamada dados_detalhados."
      ],
      "metadata": {
        "id": "EP_fO-cZDxuP"
      }
    },
    {
      "cell_type": "markdown",
      "source": [
        "Passo 3: Transformação com IA (GPT-4)\n",
        "\n",
        "    1. Use a IA GPT-4 para transformar os dados detalhados em mensagens personalizadas de marketing.\n",
        "    2. Você pode usar a API da OpenAI para interagir com o GPT-4 e gerar as mensagens."
      ],
      "metadata": {
        "id": "Ex6w06ggCjaj"
      }
    },
    {
      "cell_type": "code",
      "source": [
        "import openai\n",
        "\n",
        "# Chave pessoal da API\n",
        "openai.api_key = 'sua_chave_de_api'\n",
        "\n",
        "# Lista de respostas geradas pela IA\n",
        "mensagens_personalizadas = []\n",
        "\n",
        "for dado in dados_detalhados:\n",
        "    input_text = f\"Olá {dado['nome']}, gostaríamos de apresentar uma estratégia de investimentos...\"\n",
        "    response = openai.Completion.create(\n",
        "        engine=\"text-davinci-004\",\n",
        "        prompt=input_text,\n",
        "        max_tokens=50\n",
        "    )\n",
        "    mensagem_gerada = response.choices[0].text.strip()\n",
        "    mensagens_personalizadas.append(mensagem_gerada)"
      ],
      "metadata": {
        "id": "bNqOE551CmFM"
      },
      "execution_count": null,
      "outputs": []
    },
    {
      "cell_type": "markdown",
      "source": [
        "Nesse trecho, importamos a biblioteca openai e configuramos a chave da API. No loop, criamos mensagens personalizadas usando os dados detalhados e a IA GPT-4. Enviando um prompt com saudação e informações sobre o novo produto, recebemos uma resposta gerada pela IA e a adicionamos à lista mensagens_personalizadas."
      ],
      "metadata": {
        "id": "frdmEXX7DrCX"
      }
    },
    {
      "cell_type": "markdown",
      "source": [
        "Passo 4: Carregamento de Mensagens de Volta para a API\n",
        "\n",
        "    1. Envie as mensagens personalizadas de marketing de volta para a API.\n",
        "    2. Novamente, use a biblioteca requests para fazer as chamadas de envio."
      ],
      "metadata": {
        "id": "t9_t1A-9Cn3_"
      }
    },
    {
      "cell_type": "code",
      "source": [
        "for i, id_usuario in enumerate(ids_usuarios):\n",
        "    mensagem = mensagens_personalizadas[i]\n",
        "    payload = {'user_id': id_usuario, 'message': mensagem}\n",
        "    response = requests.post(base_url + 'send_message', json=payload)\n",
        "    if response.status_code == 200:\n",
        "        print(f'Mensagem enviada para o usuário {id_usuario}')"
      ],
      "metadata": {
        "id": "b85Qlw0aCrE_"
      },
      "execution_count": null,
      "outputs": []
    },
    {
      "cell_type": "markdown",
      "source": [
        "Nessa última parte, percorremos a lista de IDs dos usuários usando enumerate para obter tanto o índice quanto o ID. Criamos um payload contendo o ID do usuário e a mensagem personalizada gerada. Em seguida, fazemos uma requisição POST para a API para enviar a mensagem. Se a resposta tiver um status de código 200, imprimimos uma mensagem indicando que a mensagem foi enviada com sucesso. Isso completa o processo de carregamento das mensagens de volta para a API."
      ],
      "metadata": {
        "id": "qWa4xJ-hDiqx"
      }
    },
    {
      "cell_type": "markdown",
      "source": [
        "Conclusão:\n",
        "\n",
        "Completando esses passos, você construiu um pipeline ETL completo que extraiu dados de uma planilha, os transformou em mensagens personalizadas de marketing usando a IA GPT-4 e, finalmente, carregou essas mensagens de volta para uma API. Isso demonstra a interação entre dados, IA e APIs de maneira prática e inovadora. Certifique-se de adaptar o código conforme necessário para atender às suas necessidades específicas."
      ],
      "metadata": {
        "id": "muhQA_AECsg7"
      }
    },
    {
      "cell_type": "markdown",
      "source": [
        "Tecnologias e boas práticas:\n",
        "\n",
        "Neste projeto, exploramos uma sinergia poderosa de tecnologias para construir um pipeline ETL robusto e eficiente. Começamos com a biblioteca pandas em Python para a manipulação de dados, garantindo a extração precisa dos IDs de usuários da planilha. Utilizamos a biblioteca requests para simular chamadas à API e obter dados detalhados. A verdadeira estrela do processo é a IA GPT-4 da OpenAI, que transforma esses dados em mensagens personalizadas de marketing de maneira inovadora. Além disso, incorporamos boas práticas, como a utilização de chaves de API para acesso seguro, o que garante a integridade e confidencialidade dos dados. Adicionalmente, implementamos um tempo de espera aleatório nas chamadas simuladas à API, reproduzindo as condições reais de uma interação com serviços externos. Esse projeto ilustra não apenas a harmonização das tecnologias, mas também a importância de práticas sólidas para garantir a eficácia e a segurança em cada etapa do processo."
      ],
      "metadata": {
        "id": "i0bKYLJ4HcDg"
      }
    }
  ]
}